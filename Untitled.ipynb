{
 "cells": [
  {
   "cell_type": "code",
   "execution_count": 50,
   "id": "9201bbd6",
   "metadata": {},
   "outputs": [],
   "source": [
    "# names of hurricanes\n",
    "names = ['Cuba I', 'San Felipe II Okeechobee', 'Bahamas', 'Cuba II', 'CubaBrownsville', 'Tampico', 'Labor Day', 'New England', 'Carol', 'Janet', 'Carla', 'Hattie', 'Beulah', 'Camille', 'Edith', 'Anita', 'David', 'Allen', 'Gilbert', 'Hugo', 'Andrew', 'Mitch', 'Isabel', 'Ivan', 'Emily', 'Katrina', 'Rita', 'Wilma', 'Dean', 'Felix', 'Matthew', 'Irma', 'Maria', 'Michael']\n",
    "\n",
    "# months of hurricanes\n",
    "months = ['October', 'September', 'September', 'November', 'August', 'September', 'September', 'September', 'September', 'September', 'September', 'October', 'September', 'August', 'September', 'September', 'August', 'August', 'September', 'September', 'August', 'October', 'September', 'September', 'July', 'August', 'September', 'October', 'August', 'September', 'October', 'September', 'September', 'October']\n",
    "\n",
    "# years of hurricanes\n",
    "years = [1924, 1928, 1932, 1932, 1933, 1933, 1935, 1938, 1953, 1955, 1961, 1961, 1967, 1969, 1971, 1977, 1979, 1980, 1988, 1989, 1992, 1998, 2003, 2004, 2005, 2005, 2005, 2005, 2007, 2007, 2016, 2017, 2017, 2018]\n",
    "\n",
    "# maximum sustained winds (mph) of hurricanes\n",
    "max_sustained_winds = [165, 160, 160, 175, 160, 160, 185, 160, 160, 175, 175, 160, 160, 175, 160, 175, 175, 190, 185, 160, 175, 180, 165, 165, 160, 175, 180, 185, 175, 175, 165, 180, 175, 160]\n",
    "\n",
    "# areas affected by each hurricane\n",
    "areas_affected = [['Central America', 'Mexico', 'Cuba', 'Florida', 'The Bahamas'], ['Lesser Antilles', 'The Bahamas', 'United States East Coast', 'Atlantic Canada'], ['The Bahamas', 'Northeastern United States'], ['Lesser Antilles', 'Jamaica', 'Cayman Islands', 'Cuba', 'The Bahamas', 'Bermuda'], ['The Bahamas', 'Cuba', 'Florida', 'Texas', 'Tamaulipas'], ['Jamaica', 'Yucatn Peninsula'], ['The Bahamas', 'Florida', 'Georgia', 'The Carolinas', 'Virginia'], ['Southeastern United States', 'Northeastern United States', 'Southwestern Quebec'], ['Bermuda', 'New England', 'Atlantic Canada'], ['Lesser Antilles', 'Central America'], ['Texas', 'Louisiana', 'Midwestern United States'], ['Central America'], ['The Caribbean', 'Mexico', 'Texas'], ['Cuba', 'United States Gulf Coast'], ['The Caribbean', 'Central America', 'Mexico', 'United States Gulf Coast'], ['Mexico'], ['The Caribbean', 'United States East coast'], ['The Caribbean', 'Yucatn Peninsula', 'Mexico', 'South Texas'], ['Jamaica', 'Venezuela', 'Central America', 'Hispaniola', 'Mexico'], ['The Caribbean', 'United States East Coast'], ['The Bahamas', 'Florida', 'United States Gulf Coast'], ['Central America', 'Yucatn Peninsula', 'South Florida'], ['Greater Antilles', 'Bahamas', 'Eastern United States', 'Ontario'], ['The Caribbean', 'Venezuela', 'United States Gulf Coast'], ['Windward Islands', 'Jamaica', 'Mexico', 'Texas'], ['Bahamas', 'United States Gulf Coast'], ['Cuba', 'United States Gulf Coast'], ['Greater Antilles', 'Central America', 'Florida'], ['The Caribbean', 'Central America'], ['Nicaragua', 'Honduras'], ['Antilles', 'Venezuela', 'Colombia', 'United States East Coast', 'Atlantic Canada'], ['Cape Verde', 'The Caribbean', 'British Virgin Islands', 'U.S. Virgin Islands', 'Cuba', 'Florida'], ['Lesser Antilles', 'Virgin Islands', 'Puerto Rico', 'Dominican Republic', 'Turks and Caicos Islands'], ['Central America', 'United States Gulf Coast (especially Florida Panhandle)']]\n",
    "\n",
    "# damages (USD($)) of hurricanes\n",
    "damages = ['Damages not recorded', '100M', 'Damages not recorded', '40M', '27.9M', '5M', 'Damages not recorded', '306M', '2M', '65.8M', '326M', '60.3M', '208M', '1.42B', '25.4M', 'Damages not recorded', '1.54B', '1.24B', '7.1B', '10B', '26.5B', '6.2B', '5.37B', '23.3B', '1.01B', '125B', '12B', '29.4B', '1.76B', '720M', '15.1B', '64.8B', '91.6B', '25.1B']\n",
    "\n",
    "# deaths for each hurricane\n",
    "deaths = [90,4000,16,3103,179,184,408,682,5,1023,43,319,688,259,37,11,2068,269,318,107,65,19325,51,124,17,1836,125,87,45,133,603,138,3057,74]"
   ]
  },
  {
   "cell_type": "code",
   "execution_count": 54,
   "id": "e88368d3",
   "metadata": {},
   "outputs": [
    {
     "name": "stdout",
     "output_type": "stream",
     "text": [
      "['Damages not recorded', 100000000.0, 'Damages not recorded', 40000000.0, 27900000.0, 5000000.0, 'Damages not recorded', 306000000.0, 2000000.0, 65800000.0, 326000000.0, 60300000.0, 208000000.0, 1420000000.0, 25400000.0, 'Damages not recorded', 1540000000.0, 1240000000.0, 7100000000.0, 10000000000.0, 26500000000.0, 6200000000.0, 5370000000.0, 23300000000.0, 1010000000.0, 125000000000.0, 12000000000.0, 29400000000.0, 1760000000.0, 720000000.0, 15100000000.0, 64800000000.0, 91600000000.0, 25100000000.0]\n"
     ]
    }
   ],
   "source": [
    "# UPDATE DAMAGES LIST \n",
    "def update_damages(damages):\n",
    "    conversion = {\"M\": 1000000, \"B\": 1000000000}\n",
    "    # Initialize damages_updated_list\n",
    "    damages_updated_list = []\n",
    "    # Go through all the entries in damages list\n",
    "    for item in damages:        \n",
    "        if('M' in item) == True:\n",
    "            item = float((item.replace('M',''))) * conversion['M']\n",
    "        elif ('B' in item) == True:\n",
    "            item = float((item.replace('B',''))) * conversion['B']\n",
    "        # insert result in the updated list\n",
    "        damages_updated_list.append(item)\n",
    "    # return the created list to outside the function\n",
    "    return damages_updated_list\n",
    "\n",
    "damages_updated_list = update_damages(damages)\n",
    "print(damages_updated_list)"
   ]
  },
  {
   "cell_type": "code",
   "execution_count": 53,
   "id": "eccc8658",
   "metadata": {},
   "outputs": [],
   "source": [
    "# CREATE DICTIONARY WITH ALL THE DATA\n",
    "def collecting_data(names, months, years, max_sustained_winds, areas_affected , damages_updated_list, deaths):\n",
    "    # Initialize variables\n",
    "    all_data = []\n",
    "    collected_data = {}\n",
    "    # Go through every data point\n",
    "    for num in range(len(names)):\n",
    "        # Initialize individual dictionary for each data point\n",
    "        individual_data = {}\n",
    "        # Fill dictionary \n",
    "        individual_data['Name'] = names[num]\n",
    "        individual_data['Month'] = months[num]\n",
    "        individual_data['Year'] = years[num]\n",
    "        individual_data['Max Sustained Wind'] = max_sustained_winds[num]\n",
    "        individual_data['Areas Affected'] = areas_affected[num]\n",
    "        individual_data['Damages'] = damages_updated_list[num]\n",
    "        individual_data['Deaths'] = deaths[num]\n",
    "        # Assign individual dictionary as value to key in overall dictionary\n",
    "        collected_data[names[num]] = individual_data\n",
    "    return collected_data\n",
    "\n",
    "collected_data = collecting_data(names, months, years, max_sustained_winds, areas_affected , damages_updated_list, deaths)"
   ]
  },
  {
   "cell_type": "code",
   "execution_count": 33,
   "id": "bd687e30",
   "metadata": {},
   "outputs": [],
   "source": [
    "# Organize data by year\n",
    "def organize_by_year(collected_data, years, names):\n",
    "    # Initialize variables\n",
    "    data_by_year = {}\n",
    "    #Find year window\n",
    "    max_year = max(years)\n",
    "    min_year = min(years)\n",
    "    #Go through every year to find occurences\n",
    "    for year in range(min_year, max_year + 1, 1):\n",
    "        # create intermidiate variable to group occurences in the same year\n",
    "        collected_data_updated = []   \n",
    "        # search for hurricanes in each year\n",
    "        for num in range(len(collected_data)):\n",
    "            if collected_data[names[num]]['Year'] == year:\n",
    "                # Append to list every occurence in each list\n",
    "                collected_data_updated.append(collected_data[names[num]])\n",
    "                # For every key: year corresponds the list with every occurence for that year\n",
    "                data_by_year[year] = collected_data_updated\n",
    "    return data_by_year\n",
    "\n",
    "data_by_year = organize_by_year(collected_data, years, names)"
   ]
  },
  {
   "cell_type": "code",
   "execution_count": 21,
   "id": "5b6d6f71",
   "metadata": {},
   "outputs": [],
   "source": [
    "#Organize data by area affected \n",
    "def count_affected_areas(areas_affected):\n",
    "    #Initialize variables\n",
    "    data_by_area = {}\n",
    "    sorted_data_by_area = {}\n",
    "    sorted_keys = []\n",
    "    # Create dictionary with all the affected areas and the number of occurences in each area (key = Area Value = no. occurences)\n",
    "    for event in areas_affected:\n",
    "        for area in event:\n",
    "            # if the area isn't created it will assign 1 occurence, if it already exists it will sum 1 occurence to the current count\n",
    "            if (area in data_by_area) == False:\n",
    "                data_by_area[area] = 1 \n",
    "            else:\n",
    "                data_by_area[area] +=1\n",
    "    #sort the dictionary so that the order goes from the most to the least affected area (OPTIONAL)\n",
    "    sorted_keys = sorted(data_by_area, key=data_by_area.get, reverse =True)\n",
    "    for num in sorted_keys:\n",
    "        sorted_data_by_area[num] = data_by_area[num]\n",
    "    #return sorted dictionary\n",
    "    return sorted_data_by_area\n",
    "\n",
    "sorted_data_by_area = count_affected_areas(areas_affected)"
   ]
  },
  {
   "cell_type": "code",
   "execution_count": 34,
   "id": "dfe48ccf",
   "metadata": {},
   "outputs": [
    {
     "name": "stdout",
     "output_type": "stream",
     "text": [
      "The most affected area was Central America and it was hit 9 times.\n"
     ]
    }
   ],
   "source": [
    "# Find the area that was affected the most\n",
    "def most_affected_area(sorted_data_by_area):\n",
    "    # As the dictionary is sorted, the area that was hit the most is the first entry in the dictionary\n",
    "    # Get the area from the 1st key of the dictionary\n",
    "    most_affected = list(sorted_data_by_area.keys())[0]\n",
    "    # Get the number of occurences for the area\n",
    "    no_occurences = list(sorted_data_by_area.values())[0]\n",
    "    # print information\n",
    "    print('The most affected area was ' + most_affected + ' and it was hit ' + str(no_occurences) + ' times.')\n",
    "\n",
    "most_affected_area(sorted_data_by_area)"
   ]
  },
  {
   "cell_type": "code",
   "execution_count": 48,
   "id": "bc3614cb",
   "metadata": {},
   "outputs": [
    {
     "name": "stdout",
     "output_type": "stream",
     "text": [
      "Mitch was the deadliest hurricane and it caused 19325 casualties\n"
     ]
    }
   ],
   "source": [
    "# Get the deadliest hurricane and the number of casualties \n",
    "def deadliest_hurricane(names,deaths):\n",
    "    index = deaths.index(max(deaths))\n",
    "    no_deaths = max(deaths)\n",
    "    hurricane = names[index]\n",
    "    print(hurricane + ' was the deadliest hurricane and it caused ' + str(no_deaths) + ' casualties')\n",
    "\n",
    "deadliest_hurricane(names,deaths)"
   ]
  },
  {
   "cell_type": "code",
   "execution_count": 61,
   "id": "6a43b093",
   "metadata": {},
   "outputs": [],
   "source": [
    "# Rank the hurricanes by the deaths caused\n",
    "def rank_by_deaths(names, months, years, max_sustained_winds, areas_affected , damages_updated_list, deaths):\n",
    "# Ranking logic\n",
    "    mortality_scale = {0: 0,\n",
    "                   1: 100,\n",
    "                   2: 500,\n",
    "                   3: 1000,\n",
    "                   4: 10000}\n",
    "# Initialize variables \n",
    "    rank_by_deaths = {}\n",
    "    rank_1 = []\n",
    "    rank_2 =[]\n",
    "    rank_3 = []\n",
    "    rank_4 = []\n",
    "    rank_5 = []\n",
    "    for num in range(len(names)):\n",
    "        #Initialuize individual dictionary\n",
    "        individual_data = {}\n",
    "        # Assign values to individual dictionary\n",
    "        individual_data['Name'] = names[num]\n",
    "        individual_data['Month'] = months[num]\n",
    "        individual_data['Year'] = years[num]\n",
    "        individual_data['Max Sustained Wind'] = max_sustained_winds[num]\n",
    "        individual_data['Areas Affected'] = areas_affected[num]\n",
    "        individual_data['Damages'] = damages_updated_list[num]\n",
    "        individual_data['Deaths'] = deaths[num]\n",
    "        # Rank the hurricanes by death rate\n",
    "        if deaths[num] < mortality_scale[1] :\n",
    "            rank_1.append(individual_data)\n",
    "        elif deaths[num] >= mortality_scale[1] and deaths[num] < mortality_scale[2]:\n",
    "            rank_2.append(individual_data)\n",
    "        elif deaths[num] >= mortality_scale[2] and deaths[num] < mortality_scale[3]:\n",
    "            rank_3.append(individual_data)\n",
    "        elif deaths[num] >= mortality_scale[3] and deaths[num] < mortality_scale[4]:\n",
    "            rank_4.append(individual_data)\n",
    "        elif  deaths[num] > mortality_scale[4]:\n",
    "            rank_5.append(individual_data)\n",
    "        # Create new dicitonary with ranking by death rate\n",
    "        rank_by_deaths = {1: rank_1,\n",
    "                   2: rank_2,\n",
    "                   3: rank_3,\n",
    "                   4: rank_4,\n",
    "                   5: rank_5}\n",
    "    return rank_by_deaths\n",
    "\n",
    "rank_by_deaths = rank_by_deaths(names, months, years, max_sustained_winds, areas_affected , damages_updated_list, deaths)"
   ]
  },
  {
   "cell_type": "code",
   "execution_count": null,
   "id": "edb5e05d",
   "metadata": {},
   "outputs": [],
   "source": []
  },
  {
   "cell_type": "code",
   "execution_count": null,
   "id": "f74ead53",
   "metadata": {},
   "outputs": [],
   "source": []
  },
  {
   "cell_type": "code",
   "execution_count": null,
   "id": "bd90a2ae",
   "metadata": {},
   "outputs": [],
   "source": []
  },
  {
   "cell_type": "code",
   "execution_count": null,
   "id": "80cbfd6f",
   "metadata": {},
   "outputs": [],
   "source": []
  }
 ],
 "metadata": {
  "kernelspec": {
   "display_name": "Python 3",
   "language": "python",
   "name": "python3"
  },
  "language_info": {
   "codemirror_mode": {
    "name": "ipython",
    "version": 3
   },
   "file_extension": ".py",
   "mimetype": "text/x-python",
   "name": "python",
   "nbconvert_exporter": "python",
   "pygments_lexer": "ipython3",
   "version": "3.8.8"
  }
 },
 "nbformat": 4,
 "nbformat_minor": 5
}
